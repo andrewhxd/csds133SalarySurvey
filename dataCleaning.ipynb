{
 "cells": [
  {
   "cell_type": "markdown",
   "metadata": {},
   "source": [
    "# Data Summary\n",
    "---\n",
    "#### According to the Google Sheets file the Columns consist of: \n",
    "\n",
    "**1:** Age Range \\\n",
    "**2:** Industry \\\n",
    "**3:** Job Title\\\n",
    "**4:** Additional Job Context\\\n",
    "**5:** Annual Salary \\\n",
    "**6:** Additional Income (bonuses, overtime...)\\\n",
    "**7:** Currency (USD, GBP, EUR...)\\\n",
    "**8:** Other Column for additional currency inputs (one input INR)\\\n",
    "**9:** Context for Additional Income (bonus percentages)\\\n",
    "**10:** What Country You work in\\\n",
    "**11:** If U.S. what State they work in\\\n",
    "**12:** If U.S. what City they work in\\\n",
    "**13:** How Many Years of Professional Experience overall\\\n",
    "**14:** How Many Years of Professional Experience in this specific field\\\n",
    "**15:** Highest level of education completed\\\n",
    "**16:** Gender\\\n",
    "**17:** Race\\\n",
    "\\\n",
    "I will download the sheets file as a csv and import it as a dataframe (I renamed the columns for ease of use as they were labeled as the question asked in the original survey):"
   ]
  },
  {
   "cell_type": "code",
   "execution_count": null,
   "metadata": {},
   "outputs": [
    {
     "name": "stdout",
     "output_type": "stream",
     "text": [
      "            Timestamp ageRange                       industry  \\\n",
      "0  4/27/2021 11:02:10    25-34   Education (Higher Education)   \n",
      "1  4/27/2021 11:02:22    25-34              Computing or Tech   \n",
      "2  4/27/2021 11:02:38    25-34  Accounting, Banking & Finance   \n",
      "3  4/27/2021 11:02:41    25-34                     Nonprofits   \n",
      "4  4/27/2021 11:02:42    25-34  Accounting, Banking & Finance   \n",
      "\n",
      "                                   jobTitle jobContext annualSalary  \\\n",
      "0        Research and Instruction Librarian        NaN       55,000   \n",
      "1  Change & Internal Communications Manager        NaN       54,600   \n",
      "2                      Marketing Specialist        NaN       34,000   \n",
      "3                           Program Manager        NaN       62,000   \n",
      "4                        Accounting Manager        NaN       60,000   \n",
      "\n",
      "   addIncome currency otherCurrency addIncomeContext     workCountry  \\\n",
      "0        0.0      USD           NaN              NaN   United States   \n",
      "1     4000.0      GBP           NaN              NaN  United Kingdom   \n",
      "2        NaN      USD           NaN              NaN              US   \n",
      "3     3000.0      USD           NaN              NaN             USA   \n",
      "4     7000.0      USD           NaN              NaN              US   \n",
      "\n",
      "          usState       usCity overallProExp     fieldExp         eduLevel  \\\n",
      "0   Massachusetts       Boston     5-7 years    5-7 years  Master's degree   \n",
      "1             NaN    Cambridge  8 - 10 years    5-7 years   College degree   \n",
      "2       Tennessee  Chattanooga   2 - 4 years  2 - 4 years   College degree   \n",
      "3       Wisconsin    Milwaukee  8 - 10 years    5-7 years   College degree   \n",
      "4  South Carolina   Greenville  8 - 10 years    5-7 years   College degree   \n",
      "\n",
      "       gender   race  \n",
      "0       Woman  White  \n",
      "1  Non-binary  White  \n",
      "2       Woman  White  \n",
      "3       Woman  White  \n",
      "4       Woman  White  \n"
     ]
    },
    {
     "data": {
      "text/plain": [
       "Timestamp            object\n",
       "ageRange             object\n",
       "industry             object\n",
       "jobTitle             object\n",
       "jobContext           object\n",
       "annualSalary         object\n",
       "addIncome           float64\n",
       "currency             object\n",
       "otherCurrency        object\n",
       "addIncomeContext     object\n",
       "workCountry          object\n",
       "usState              object\n",
       "usCity               object\n",
       "overallProExp        object\n",
       "fieldExp             object\n",
       "eduLevel             object\n",
       "gender               object\n",
       "race                 object\n",
       "dtype: object"
      ]
     },
     "execution_count": 15,
     "metadata": {},
     "output_type": "execute_result"
    }
   ],
   "source": [
    "import pandas as pd\n",
    "\n",
    "# read csv file\n",
    "df = pd.read_csv('salarySurveyRenamed.csv')\n",
    "\n",
    "# check the data\n",
    "print(df.head())\n",
    "\n",
    "# check data types\n",
    "df.dtypes"
   ]
  },
  {
   "cell_type": "markdown",
   "metadata": {},
   "source": [
    "The dataframe consists of an additional timestamp column that will need to be removed during cleaning.\n",
    "\n",
    "# Data Cleaning\n",
    "\n",
    "### 1: Combining Salary and Additional Salary\n",
    "- convert values to numeric int/float\n",
    "- create a total compensation column (salary + additional)\n",
    "- convert to one standard currency, USD"
   ]
  },
  {
   "cell_type": "code",
   "execution_count": null,
   "metadata": {},
   "outputs": [
    {
     "data": {
      "text/plain": [
       "Timestamp            object\n",
       "ageRange             object\n",
       "industry             object\n",
       "jobTitle             object\n",
       "jobContext           object\n",
       "annualSalary         object\n",
       "addIncome           float64\n",
       "currency             object\n",
       "otherCurrency        object\n",
       "addIncomeContext     object\n",
       "workCountry          object\n",
       "usState              object\n",
       "usCity               object\n",
       "overallProExp        object\n",
       "fieldExp             object\n",
       "eduLevel             object\n",
       "gender               object\n",
       "race                 object\n",
       "annual_salary         int64\n",
       "dtype: object"
      ]
     },
     "execution_count": 14,
     "metadata": {},
     "output_type": "execute_result"
    }
   ],
   "source": []
  }
 ],
 "metadata": {
  "kernelspec": {
   "display_name": ".venv",
   "language": "python",
   "name": "python3"
  },
  "language_info": {
   "codemirror_mode": {
    "name": "ipython",
    "version": 3
   },
   "file_extension": ".py",
   "mimetype": "text/x-python",
   "name": "python",
   "nbconvert_exporter": "python",
   "pygments_lexer": "ipython3",
   "version": "3.12.9"
  }
 },
 "nbformat": 4,
 "nbformat_minor": 2
}
