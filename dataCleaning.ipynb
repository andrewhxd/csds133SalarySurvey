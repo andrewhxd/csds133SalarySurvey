{
 "cells": [
  {
   "cell_type": "markdown",
   "metadata": {},
   "source": [
    "# Data Summary\n",
    "---\n",
    "#### According to the Google Sheets file the Columns consist of: \n",
    "\n",
    "**1:** Age Range \\\n",
    "**2:** Industry \\\n",
    "**3:** Job Title\\\n",
    "**4:** Additional Job Context\\\n",
    "**5:** Annual Salary \\\n",
    "**6:** Additional Income (bonuses, overtime...)\\\n",
    "**7:** Currency (USD, GBP, EUR...)\\\n",
    "**8:** Other Column for additional currency inputs (one input INR)\\\n",
    "**9:** Context for Additional Income (bonus percentages)\\\n",
    "**10:** What Country You work in\\\n",
    "**11:** If U.S. what State they work in\\\n",
    "**12:** If U.S. what City they work in\\\n",
    "**13:** How Many Years of Professional Experience overall\\\n",
    "**14:** How Many Years of Professional Experience in this specific field\\\n",
    "**15:** Highest level of education completed\\\n",
    "**16:** Gender\\\n",
    "**17:** Race\\\n",
    "\\\n",
    "I will download the sheets file as a csv and import it as a dataframe (I renamed the columns for ease of use as they were labeled as the question asked in the original survey):"
   ]
  },
  {
   "cell_type": "code",
   "execution_count": 104,
   "metadata": {},
   "outputs": [
    {
     "name": "stdout",
     "output_type": "stream",
     "text": [
      "            Timestamp ageRange                       industry  \\\n",
      "0  4/27/2021 11:02:10    25-34   Education (Higher Education)   \n",
      "1  4/27/2021 11:02:22    25-34              Computing or Tech   \n",
      "2  4/27/2021 11:02:38    25-34  Accounting, Banking & Finance   \n",
      "3  4/27/2021 11:02:41    25-34                     Nonprofits   \n",
      "4  4/27/2021 11:02:42    25-34  Accounting, Banking & Finance   \n",
      "\n",
      "                                   jobTitle jobContext annualSalary  \\\n",
      "0        Research and Instruction Librarian        NaN       55,000   \n",
      "1  Change & Internal Communications Manager        NaN       54,600   \n",
      "2                      Marketing Specialist        NaN       34,000   \n",
      "3                           Program Manager        NaN       62,000   \n",
      "4                        Accounting Manager        NaN       60,000   \n",
      "\n",
      "   addIncome currency otherCurrency addIncomeContext     workCountry  \\\n",
      "0        0.0      USD           NaN              NaN   United States   \n",
      "1     4000.0      GBP           NaN              NaN  United Kingdom   \n",
      "2        NaN      USD           NaN              NaN              US   \n",
      "3     3000.0      USD           NaN              NaN             USA   \n",
      "4     7000.0      USD           NaN              NaN              US   \n",
      "\n",
      "          usState       usCity overallProExp     fieldExp         eduLevel  \\\n",
      "0   Massachusetts       Boston     5-7 years    5-7 years  Master's degree   \n",
      "1             NaN    Cambridge  8 - 10 years    5-7 years   College degree   \n",
      "2       Tennessee  Chattanooga   2 - 4 years  2 - 4 years   College degree   \n",
      "3       Wisconsin    Milwaukee  8 - 10 years    5-7 years   College degree   \n",
      "4  South Carolina   Greenville  8 - 10 years    5-7 years   College degree   \n",
      "\n",
      "       gender   race  \n",
      "0       Woman  White  \n",
      "1  Non-binary  White  \n",
      "2       Woman  White  \n",
      "3       Woman  White  \n",
      "4       Woman  White  \n"
     ]
    },
    {
     "data": {
      "text/plain": [
       "Timestamp            object\n",
       "ageRange             object\n",
       "industry             object\n",
       "jobTitle             object\n",
       "jobContext           object\n",
       "annualSalary         object\n",
       "addIncome           float64\n",
       "currency             object\n",
       "otherCurrency        object\n",
       "addIncomeContext     object\n",
       "workCountry          object\n",
       "usState              object\n",
       "usCity               object\n",
       "overallProExp        object\n",
       "fieldExp             object\n",
       "eduLevel             object\n",
       "gender               object\n",
       "race                 object\n",
       "dtype: object"
      ]
     },
     "execution_count": 104,
     "metadata": {},
     "output_type": "execute_result"
    }
   ],
   "source": [
    "import pandas as pd\n",
    "\n",
    "# read csv file\n",
    "df = pd.read_csv('salarySurveyRenamed.csv')\n",
    "\n",
    "# check the data\n",
    "print(df.head())\n",
    "\n",
    "# check data types\n",
    "df.dtypes"
   ]
  },
  {
   "cell_type": "markdown",
   "metadata": {},
   "source": [
    "The dataframe consists of an additional timestamp column that will need to be removed during cleaning.\n",
    "\n",
    "---\n",
    "\n",
    "# Data Cleaning\n",
    "\n",
    "### 1: Combining Salary and Additional Salary\n",
    "- convert values to numeric int/float (addIncome is already a float, so just change salary)\n",
    "- create a total compensation column (salary + additional)\n",
    "- convert to one standard currency, USD"
   ]
  },
  {
   "cell_type": "code",
   "execution_count": 105,
   "metadata": {},
   "outputs": [
    {
     "name": "stdout",
     "output_type": "stream",
     "text": [
      "NaNs in salary:  0\n",
      "NaNs in Additional Income:  7332\n",
      "0       0.0\n",
      "1    4000.0\n",
      "2       0.0\n",
      "3    3000.0\n",
      "4    7000.0\n",
      "Name: addIncome, dtype: float64\n",
      "0    55000\n",
      "1    54600\n",
      "2    34000\n",
      "3    62000\n",
      "4    60000\n",
      "Name: annualSalary, dtype: int64\n",
      "0    55000.0\n",
      "1    58600.0\n",
      "2    34000.0\n",
      "3    65000.0\n",
      "4    67000.0\n",
      "Name: totalCompensation, dtype: float64\n",
      "NaNs in currency:  0\n",
      "['USD' 'GBP' 'CAD' 'EUR' 'AUD/NZD' 'OTHER' 'CHF' 'ZAR' 'SEK' 'HKD' 'JPY']\n"
     ]
    }
   ],
   "source": [
    "# check for nulls and fill if needed\n",
    "print(\"NaNs in salary: \", df[\"annualSalary\"].isna().sum())\n",
    "print(\"NaNs in Additional Income: \",df[\"addIncome\"].isna().sum())\n",
    "\n",
    "# fill the NaNs in additional income with 0 so I can correctly calculate total compensation\n",
    "df[\"addIncome\"] = df[\"addIncome\"].fillna(0)\n",
    "print(df[\"addIncome\"].head(5))\n",
    "\n",
    "# check types\n",
    "df.dtypes[[\"annualSalary\", \"addIncome\"]]\n",
    "\n",
    "# convert annualSalary to type float and remove commas\n",
    "df[\"annualSalary\"] = pd.to_numeric(df[\"annualSalary\"].astype(str).str.replace(\",\", \"\"), errors=\"coerce\")\n",
    "print(df[\"annualSalary\"].head(5))\n",
    "\n",
    "# now calculate for total income\n",
    "df[\"totalCompensation\"] = df[\"annualSalary\"] + df[\"addIncome\"]\n",
    "print(df[\"totalCompensation\"].head(5))\n",
    "\n",
    "\n",
    "# we have to standardize all values to USD\n",
    "# combine currency and otherCurrency\n",
    "df[\"currency\"] = df[\"currency\"].fillna(df[\"otherCurrency\"])\n",
    "print(\"NaNs in currency: \", df[\"currency\"].isna().sum())\n",
    "\n",
    "# drop otherCurrency\n",
    "df = df.drop(columns=[\"otherCurrency\"])\n",
    "\n",
    "# find unique currencies to create dictionary for conversion\n",
    "df[\"currency\"] = df[\"currency\"].str.strip().str.upper()\n",
    "unique_currencies = df[\"currency\"].dropna().unique()\n",
    "print(unique_currencies)\n"
   ]
  },
  {
   "cell_type": "code",
   "execution_count": 106,
   "metadata": {},
   "outputs": [
    {
     "name": "stdout",
     "output_type": "stream",
     "text": [
      "NaNs in currency:  0\n",
      "['USD' 'GBP' 'CAD' 'EUR' 'AUD/NZD' 'CHF' 'ZAR' 'SEK' 'HKD' 'JPY']\n",
      "0    55000.0\n",
      "1    78524.0\n",
      "2    34000.0\n",
      "3    65000.0\n",
      "4    67000.0\n",
      "Name: compUSD, dtype: float64\n",
      "NaNs in compUSD:  0\n"
     ]
    }
   ],
   "source": [
    "# dictionary for conversions, based on google 4/22/25:\n",
    "conversion_rates = {\n",
    "    \"USD\": 1.0,\n",
    "    \"GBP\": 1.34,\n",
    "    \"CAD\": 0.72,\n",
    "    \"EUR\": 1.15,\n",
    "    \"AUD/NZD\": 0.70,\n",
    "    \"CHF\": 1.23,\n",
    "    \"ZAR\": 0.054,\n",
    "    \"SEK\": 0.11,\n",
    "    \"HKD\": 0.13,\n",
    "    \"JPY\": 0.0071,\n",
    "}\n",
    "\n",
    "# drop rows that answered other, as too many values and non standard answers\n",
    "df = df[df[\"currency\"].str.strip().str.upper() != \"OTHER\"]\n",
    "\n",
    "# find unique currencies to create dictionary for conversion\n",
    "df[\"currency\"] = df[\"currency\"].str.strip().str.upper()\n",
    "print(\"NaNs in currency: \", df[\"currency\"].isna().sum())\n",
    "unique_currencies = df[\"currency\"].dropna().unique()\n",
    "print(unique_currencies)\n",
    "\n",
    "# calculate USD based total income\n",
    "df[\"compUSD\"] = df.apply(\n",
    "    lambda row: row[\"totalCompensation\"] * conversion_rates.get(row[\"currency\"], None),\n",
    "    axis=1\n",
    ")\n",
    "print(df[\"compUSD\"].head(5))\n",
    "print(\"NaNs in compUSD: \", df[\"compUSD\"].isna().sum())"
   ]
  },
  {
   "cell_type": "markdown",
   "metadata": {},
   "source": [
    "# 2. Drop Unused Columns\n",
    "\n",
    "- dropping columns such as timestamp, jobContext, jobTitle and additional income context\n",
    "- we plan on generalizing based on industry to make it easier to group individuals"
   ]
  },
  {
   "cell_type": "code",
   "execution_count": 107,
   "metadata": {},
   "outputs": [
    {
     "name": "stdout",
     "output_type": "stream",
     "text": [
      "['Timestamp', 'ageRange', 'industry', 'jobTitle', 'jobContext', 'annualSalary', 'addIncome', 'currency', 'addIncomeContext', 'workCountry', 'usState', 'usCity', 'overallProExp', 'fieldExp', 'eduLevel', 'gender', 'race', 'totalCompensation', 'compUSD']\n"
     ]
    },
    {
     "data": {
      "text/plain": [
       "<bound method NDFrame.head of       ageRange                       industry  annualSalary  addIncome  \\\n",
       "0        25-34   Education (Higher Education)         55000        0.0   \n",
       "1        25-34              Computing or Tech         54600     4000.0   \n",
       "2        25-34  Accounting, Banking & Finance         34000        0.0   \n",
       "3        25-34                     Nonprofits         62000     3000.0   \n",
       "4        25-34  Accounting, Banking & Finance         60000     7000.0   \n",
       "...        ...                            ...           ...        ...   \n",
       "28130    25-34   Engineering or Manufacturing         88000        0.0   \n",
       "28131    25-34              Computing or Tech         46000        0.0   \n",
       "28132    18-24                            NaN             0        0.0   \n",
       "28133    25-34              Computing or Tech        100000    50000.0   \n",
       "28134    25-34                            ABA         77000     3500.0   \n",
       "\n",
       "      currency     workCountry         usState       usCity   overallProExp  \\\n",
       "0          USD   United States   Massachusetts       Boston       5-7 years   \n",
       "1          GBP  United Kingdom             NaN    Cambridge    8 - 10 years   \n",
       "2          USD              US       Tennessee  Chattanooga     2 - 4 years   \n",
       "3          USD             USA       Wisconsin    Milwaukee    8 - 10 years   \n",
       "4          USD              US  South Carolina   Greenville    8 - 10 years   \n",
       "...        ...             ...             ...          ...             ...   \n",
       "28130      USD             usa   Massachusetts  marlborough       5-7 years   \n",
       "28131      EUR         Austria             NaN     Rohrbach   11 - 20 years   \n",
       "28132      USD          Canada             NaN     Winnipeg  1 year or less   \n",
       "28133      USD             USA      California    San Diego       5-7 years   \n",
       "28134      USD   United States      California    San Diego       5-7 years   \n",
       "\n",
       "             fieldExp         eduLevel      gender  \\\n",
       "0           5-7 years  Master's degree       Woman   \n",
       "1           5-7 years   College degree  Non-binary   \n",
       "2         2 - 4 years   College degree       Woman   \n",
       "3           5-7 years   College degree       Woman   \n",
       "4           5-7 years   College degree       Woman   \n",
       "...               ...              ...         ...   \n",
       "28130       5-7 years  Master's degree       Woman   \n",
       "28131       5-7 years              NaN       Woman   \n",
       "28132  1 year or less      High School         Man   \n",
       "28133     2 - 4 years  Master's degree       Woman   \n",
       "28134       5-7 years  Master's degree       Woman   \n",
       "\n",
       "                                      race  totalCompensation   compUSD  \n",
       "0                                    White            55000.0   55000.0  \n",
       "1                                    White            58600.0   78524.0  \n",
       "2                                    White            34000.0   34000.0  \n",
       "3                                    White            65000.0   65000.0  \n",
       "4                                    White            67000.0   67000.0  \n",
       "...                                    ...                ...       ...  \n",
       "28130                                White            88000.0   88000.0  \n",
       "28131                                  NaN            46000.0   52900.0  \n",
       "28132  Hispanic, Latino, or Spanish origin                0.0       0.0  \n",
       "28133              Asian or Asian American           150000.0  150000.0  \n",
       "28134                                White            80500.0   80500.0  \n",
       "\n",
       "[27969 rows x 15 columns]>"
      ]
     },
     "execution_count": 107,
     "metadata": {},
     "output_type": "execute_result"
    }
   ],
   "source": [
    "print(df.columns.tolist())\n",
    "\n",
    "# drop timestamp\n",
    "df = df.drop(columns=[\"Timestamp\"])\n",
    "\n",
    "df = df.drop(columns=[\"jobContext\"])\n",
    "df = df.drop(columns=[\"jobTitle\"])\n",
    "\n",
    "df = df.drop(columns=[\"addIncomeContext\"])\n",
    "\n",
    "df.head"
   ]
  },
  {
   "cell_type": "markdown",
   "metadata": {},
   "source": [
    "# Check NA's\n",
    "\n",
    "- noticed NaNs in fields that would normally be filled, drop these data points as fields like gender cannot be artificially filled"
   ]
  },
  {
   "cell_type": "code",
   "execution_count": 111,
   "metadata": {},
   "outputs": [
    {
     "data": {
      "text/plain": [
       "ageRange                0\n",
       "industry                0\n",
       "annualSalary            0\n",
       "addIncome               0\n",
       "currency                0\n",
       "workCountry             0\n",
       "usState              4757\n",
       "usCity                 81\n",
       "overallProExp           0\n",
       "fieldExp                0\n",
       "eduLevel                0\n",
       "gender                  0\n",
       "race                    0\n",
       "totalCompensation       0\n",
       "compUSD                 0\n",
       "dtype: int64"
      ]
     },
     "execution_count": 111,
     "metadata": {},
     "output_type": "execute_result"
    }
   ],
   "source": [
    "df.isna().sum()"
   ]
  },
  {
   "cell_type": "code",
   "execution_count": 109,
   "metadata": {},
   "outputs": [],
   "source": [
    "# first drop all rows where industry is NA\n",
    "df = df[df[\"industry\"].notna()]"
   ]
  },
  {
   "cell_type": "code",
   "execution_count": 110,
   "metadata": {},
   "outputs": [],
   "source": [
    "# drop all data points where eduLevel, gender and race are null\n",
    "df = df[df[\"eduLevel\"].notna()]\n",
    "df = df[df[\"gender\"].notna()]\n",
    "df = df[df[\"race\"].notna()]"
   ]
  },
  {
   "cell_type": "markdown",
   "metadata": {},
   "source": [
    "# 3. Normalize Country Location\n",
    "\n",
    "Make it so all values correlating to work in the United States are entered as USA and not united states, united states of america, us, usa...\n",
    "\n",
    "I will do this for all countries as well\n"
   ]
  },
  {
   "cell_type": "code",
   "execution_count": 112,
   "metadata": {},
   "outputs": [
    {
     "name": "stdout",
     "output_type": "stream",
     "text": [
      "['United States' 'United Kingdom' 'US' 'USA' 'Canada' 'United Kingdom '\n",
      " 'usa' 'UK' 'Scotland ' 'U.S.' 'United States ' 'The Netherlands'\n",
      " 'Australia ' 'Spain' 'us' 'Usa' 'England' 'finland'\n",
      " 'United States of America' 'France' 'United states' 'Scotland' 'USA '\n",
      " 'United states ' 'Germany' 'UK ' 'united states' 'Ireland' 'Australia'\n",
      " 'Uk' 'United States of America ' 'U.S. ' 'canada' 'Canada ' 'U.S>' 'ISA'\n",
      " 'Great Britain ' 'US ' 'United State' 'U.S.A' 'Denmark' 'U.S.A.'\n",
      " 'America' 'Netherlands' 'netherlands' 'England '\n",
      " 'united states of america' 'Ireland ' 'Switzerland' 'Netherlands '\n",
      " 'Bermuda' 'Us' 'The United States' 'United State of America' 'Mexico '\n",
      " 'United Stated' 'South Africa ' 'Belgium' 'Northern Ireland' 'u.s.'\n",
      " 'South Africa' 'UNITED STATES' 'united States' 'Sweden' 'Hong Kong'\n",
      " 'Kuwait' 'Sri lanka' 'Contracts' 'USA-- Virgin Islands' 'United Statws'\n",
      " 'England/UK' 'U.S'\n",
      " \"We don't get raises, we get quarterly bonuses, but they periodically asses income in the area you work, so I got a raise because a 3rd party assessment showed I was paid too little for the area we were located\"\n",
      " 'Unites States ' 'Usa ' 'U.S.A. ' 'England, UK.' 'Greece' 'U. S. '\n",
      " 'Britain ' 'United Sates' 'Austria' 'Canada, Ottawa, ontario' 'Global'\n",
      " 'Sweden ' 'United States of American ' 'FRANCE' 'Uniited States'\n",
      " 'United Kingdom (England)'\n",
      " 'Worldwide (based in US but short term trips aroudn the world)' 'CANADA '\n",
      " 'Canadw' 'Luxembourg' 'United Sates of America' 'ireland'\n",
      " 'United States (I work from home and my clients are all over the US/Canada/PR'\n",
      " 'Colombia' 'CANADA' 'Unted States' 'germany' 'United Statesp'\n",
      " 'United Stattes' 'United Statea' 'United Kingdom.' 'Mexico' 'New Zealand'\n",
      " 'Unites States' 'United Statees' 'United kingdom' 'Cayman Islands' 'Can'\n",
      " 'I am located in Canada but I work for a company in the US'\n",
      " 'United kingdom ' 'Germany ' 'Uniyed states' 'Uniyes States'\n",
      " 'United States of Americas' 'U.A.' 'Latvia' 'Finland' 'U. S.'\n",
      " 'Puerto Rico' 'US of A' 'Rwanda' 'United States of america '\n",
      " 'United Arab Emirates ' 'Spain ' 'U.K. ' 'Romania' 'U.SA' 'United Kindom'\n",
      " 'United Status' 'New Zealand ' 'Currently finance' ' U.S.' 'Serbia'\n",
      " 'Russia ' 'UXZ' 'England, UK' 'Canda' 'Puerto Rico ' 'Canada and USA'\n",
      " 'Catalonia' '$2,175.84/year is deducted for benefits' 'uk' 'France '\n",
      " 'Italy (South)' 'Jersey, Channel islands' 'Uk ' 'Virginia' 'Afghanistan'\n",
      " 'U.s.' 'Great Britain' 'U.s.a.' 'USS' 'Uniteed States'\n",
      " 'New Zealand Aotearoa' 'U.K.' 'Hartford' 'Japan, US Gov position'\n",
      " 'Csnada' 'United Stares' 'New zealand' 'I.S.' 'UK (Northern Ireland)'\n",
      " 'UK for U.S. company' 'Japan' ' US' 'Unites states ' 'NZ' 'Us '\n",
      " 'Hong Kong ' 'Canad' 'Unite States' 'australia' 'The US' 'China'\n",
      " 'united states ' 'The Netherlands ' 'Cambodia'\n",
      " 'United states of America ' 'Vietnam' 'Remote' 'India' 'Bangladesh'\n",
      " 'Israel' 'Lithuania' 'Eritrea'\n",
      " 'For the United States government, but posted overseas' 'IS'\n",
      " 'Switzerland ' 'United Kingdomk' 'Italy' 'Norway' ' New Zealand' 'Cuba'\n",
      " 'Slovenia' 'Australi' \"Cote d'Ivoire\" 'united kingdom'\n",
      " 'From Romania, but for an US based company' 'Somalia'\n",
      " 'Wales (United Kingdom)' 'England, Gb' 'UnitedStates' 'Danmark'\n",
      " 'U.K. (northern England)' 'U.K' 'Malaysia' 'NL' 'the Netherlands'\n",
      " 'Nederland' 'Slovakia' 'United States of america' 'Portugal '\n",
      " 'England, United Kingdom' 'Sierra Leone' 'Englang' 'United statew' 'UAE'\n",
      " 'Singapore' 'International ' 'The Bahamas ' 'Wales'\n",
      " \"I earn commission on sales. If I meet quota, I'm guaranteed another 16k min. Last year i earned an additional 27k. It's not uncommon for people in my space to earn 100k+ after commission. \"\n",
      " 'Costa Rica' ' United States' 'United Statues' 'Argentina'\n",
      " 'Untied States' 'Chile' 'denmark' 'UK (England)' 'UK, remote'\n",
      " 'Scotland, UK' 'USAB' 'Unitied States' 'Norway ' 'Qatar' 'United Sttes'\n",
      " 'Hungary' 'Remote (philippines)' 'Unites kingdom ' 'South africa'\n",
      " 'Portugal' 'united stated' 'United States Of America' 'Nigeria' 'Panamá'\n",
      " 'Northern Ireland ' 'england' 'SWITZERLAND' 'Brazil'\n",
      " 'Austria, but I work remotely for a Dutch/British company'\n",
      " 'I was brought in on this salary to help with the EHR and very quickly was promoted to current position but compensation was not altered. '\n",
      " 'Uniter Statez' 'U. S ' 'Congo' 'United states of America' 'Uruguay'\n",
      " 'Pakistan' 'USA tomorrow ' 'United Stateds'\n",
      " 'n/a (remote from wherever I want)' 'singapore'\n",
      " 'US govt employee overseas, country withheld' 'usa ' 'Malaysia ' 'Uganda'\n",
      " 'Philippines' 'Poland' 'Belgium ' 'Malta' 'Bulgaria' 'Estonia' 'Morocco'\n",
      " 'new zealand' 'Africa' 'Ecuador' 'Zimbabwe' 'Ghana' 'San Francisco'\n",
      " 'Japan ' 'Usat' '🇺🇸 ' 'Luxemburg' 'Unitef Stated' 'UA' 'Wales, UK'\n",
      " 'United Stares ' 'Croatia ' 'England, United Kingdom ' 'United STates'\n",
      " 'USaa' 'uSA' 'South Korea ' 'The netherlands' 'Ukraine ' 'spain'\n",
      " 'america' 'switzerland' 'United States- Puerto Rico'\n",
      " 'From New Zealand but on projects across APAC' 'Y' 'United y' 'Thailand'\n",
      " 'Wales (UK)' 'Isle of Man' 'Northern Ireland, United Kingdom' 'europe'\n",
      " 'California ' 'UK, but for globally fully remote company' 'Australian '\n",
      " 'Jamaica' 'uS' 'USD' 'the netherlands' \"USA, but for foreign gov't\"\n",
      " 'japan' 'Kenya' 'Jordan' 'United Statss' 'United states of america' 'UsA'\n",
      " 'I work for a UAE-based organization, though I am personally in the US.'\n",
      " 'United  States' 'france' 'Aotearoa New Zealand' 'na' 'Policy' 'Cyprus'\n",
      " 'hong konh' 'United States is America' 'Liechtenstein'\n",
      " 'Company in Germany. I work from Pakistan.' 'Canadá' 'ENGLAND'\n",
      " 'United States of American' 'U.S.A ' 'pakistan' 'Nigeria ' 'London' 'ss'\n",
      " 'dbfemf' 'Saudi Arabia' 'LOUTRELAND' 'philippines' 'Myanmar' 'Burma'\n",
      " 'Taiwan' 'Italia' 'Hong KongKong']\n"
     ]
    }
   ],
   "source": [
    "unique_countries = df[\"workCountry\"].dropna().unique()\n",
    "print(unique_countries)"
   ]
  },
  {
   "cell_type": "code",
   "execution_count": 113,
   "metadata": {},
   "outputs": [],
   "source": [
    "# Normalize US and drop all non US matches as data is heavily grouped towards United States\n",
    "\n",
    "country_aliases = {\n",
    "    # USA variants\n",
    "    \"UNITED STATES\": \"USA\",\n",
    "    \"US\": \"USA\",\n",
    "    \"USA\": \"USA\",\n",
    "    \"U.S.\": \"USA\",\n",
    "    \"U.S\": \"USA\",\n",
    "    \"U.S.A\": \"USA\",\n",
    "    \"U.S.A.\": \"USA\",\n",
    "    \"UNITED STATES OF AMERICA\": \"USA\",\n",
    "    \"UNITED STATES OF AMERICA \": \"USA\",\n",
    "    \"UNITED SATES OF AMERICA \": \"USA\",\n",
    "    \"UNITED SATES OF AMERICAN\": \"USA\",\n",
    "    \"UNIITED STATES\": \"USA\",\n",
    "    \"UNITED STATE\": \"USA\",\n",
    "    \"UNITED STATED\": \"USA\",\n",
    "    \"UNITED STATESP\": \"USA\",\n",
    "    \"UNITED STATWS\": \"USA\",\n",
    "    \"UNTED STATES\": \"USA\",\n",
    "    \"UNITED STATTES\": \"USA\",\n",
    "    \"UNITED STAES\": \"USA\",\n",
    "    \"UNITED STATEA\": \"USA\",\n",
    "    \"UNITED STATEES\": \"USA\",\n",
    "    \"UNITED STARES\": \"USA\",\n",
    "    \"UNITED STATUES\": \"USA\",\n",
    "    \"USA-- VIRGIN ISLANDS\": \"USA\",\n",
    "    \"AMERICA\": \"USA\",\n",
    "    \"UNITED STATES IS AMERICA\": \"USA\",\n",
    "    \"USAA\": \"USA\",\n",
    "    \"USAB\": \"USA\",\n",
    "    \"USS\": \"USA\",\n",
    "    \"US OF A\": \"USA\",\n",
    "    \"USA TOMORROW\": \"USA\",\n",
    "    \"UNITED STATES (I WORK FROM HOME AND MY CLIENTS ARE ALL OVER THE US/CANADA/PR)\": \"USA\",\n",
    "    \"UNITED STATES- PUERTO RICO\": \"USA\",\n",
    "    \"USA, BUT FOR FOREIGN GOV'T\": \"USA\",\n",
    "    \"U. S.\": \"USA\",\n",
    "    \"U. S\": \"USA\",\n",
    "    \"USA \": \"USA\",\n",
    "    \"US \": \"USA\",\n",
    "    \"Usa\": \"USA\",\n",
    "    \"Us\": \"USA\",\n",
    "    \"uSA\": \"USA\",\n",
    "    \"usa\": \"USA\",\n",
    "    \"uS\": \"USA\",\n",
    "\n",
    "    # UK variants\n",
    "    \"UNITED KINGDOM\": \"UK\",\n",
    "    \"UK\": \"UK\",\n",
    "    \"ENGLAND\": \"UK\",\n",
    "    \"SCOTLAND\": \"UK\",\n",
    "    \"WALES\": \"UK\",\n",
    "    \"GREAT BRITAIN\": \"UK\",\n",
    "    \"BRITAIN\": \"UK\",\n",
    "    \"NORTHERN IRELAND\": \"UK\",\n",
    "    \"UNITED KINGDOM (ENGLAND)\": \"UK\",\n",
    "    \"ENGLAND, UK\": \"UK\",\n",
    "    \"UK (NORTHERN IRELAND)\": \"UK\",\n",
    "    \"UNITED KINGDOM.\": \"UK\",\n",
    "    \"ENGLAND/UK\": \"UK\",\n",
    "    \"SCOTLAND, UK\": \"UK\",\n",
    "    \"U.K\": \"UK\",\n",
    "    \"U.K.\": \"UK\",\n",
    "    \"UK \": \"UK\",\n",
    "    \"UK, REMOTE\": \"UK\",\n",
    "    \"ENGLAND, GB\": \"UK\",\n",
    "    \"UK FOR U.S. COMPANY\": \"UK\",\n",
    "    \"WALES (UK)\": \"UK\",\n",
    "    \"WALES, UK\": \"UK\",\n",
    "    \"UNITED KINGDOM \": \"UK\",\n",
    "    \"UNITED KINGDOMK\": \"UK\",\n",
    "    \"UNITED KINDOM\": \"UK\",\n",
    "    \"UNITED KINGDOM (WALES)\": \"UK\",\n",
    "\n",
    "    # Canada variants\n",
    "    \"CANADA\": \"CANADA\",\n",
    "    \"CANADW\": \"CANADA\",\n",
    "    \"CANADA \": \"CANADA\",\n",
    "    \"CANAD\": \"CANADA\",\n",
    "    \"CANADA, OTTAWA, ONTARIO\": \"CANADA\",\n",
    "    \"CAN\": \"CANADA\",\n",
    "    \"CANA\": \"CANADA\",\n",
    "    \"CSNADA\": \"CANADA\",\n",
    "    \"CANDADA\": \"CANADA\",\n",
    "}\n"
   ]
  },
  {
   "cell_type": "code",
   "execution_count": 114,
   "metadata": {},
   "outputs": [
    {
     "name": "stdout",
     "output_type": "stream",
     "text": [
      "workCountry\n",
      "USA            22727\n",
      "CANADA          1653\n",
      "UK              1552\n",
      "AUSTRALIA        377\n",
      "GERMANY          190\n",
      "NEW ZEALAND      119\n",
      "IRELAND          117\n",
      "FRANCE            65\n",
      "NETHERLANDS       54\n",
      "SPAIN             46\n",
      "Name: count, dtype: int64\n",
      "['USA' 'UK' 'CANADA' 'THE NETHERLANDS' 'AUSTRALIA' 'SPAIN' 'FINLAND'\n",
      " 'FRANCE' 'GERMANY' 'IRELAND' 'U.S>' 'ISA' 'DENMARK' 'NETHERLANDS'\n",
      " 'SWITZERLAND' 'BERMUDA' 'THE UNITED STATES' 'UNITED STATE OF AMERICA'\n",
      " 'MEXICO' 'SOUTH AFRICA' 'BELGIUM' 'SWEDEN' 'HONG KONG' 'KUWAIT'\n",
      " 'SRI LANKA' 'CONTRACTS'\n",
      " \"WE DON'T GET RAISES, WE GET QUARTERLY BONUSES, BUT THEY PERIODICALLY ASSES INCOME IN THE AREA YOU WORK, SO I GOT A RAISE BECAUSE A 3RD PARTY ASSESSMENT SHOWED I WAS PAID TOO LITTLE FOR THE AREA WE WERE LOCATED\"\n",
      " 'UNITES STATES' 'ENGLAND, UK.' 'GREECE' 'UNITED SATES' 'AUSTRIA' 'GLOBAL'\n",
      " 'UNITED STATES OF AMERICAN'\n",
      " 'WORLDWIDE (BASED IN US BUT SHORT TERM TRIPS AROUDN THE WORLD)'\n",
      " 'LUXEMBOURG' 'UNITED SATES OF AMERICA'\n",
      " 'UNITED STATES (I WORK FROM HOME AND MY CLIENTS ARE ALL OVER THE US/CANADA/PR'\n",
      " 'COLOMBIA' 'NEW ZEALAND' 'CAYMAN ISLANDS'\n",
      " 'I AM LOCATED IN CANADA BUT I WORK FOR A COMPANY IN THE US'\n",
      " 'UNIYED STATES' 'UNIYES STATES' 'UNITED STATES OF AMERICAS' 'U.A.'\n",
      " 'LATVIA' 'PUERTO RICO' 'RWANDA' 'UNITED ARAB EMIRATES' 'ROMANIA' 'U.SA'\n",
      " 'UNITED STATUS' 'CURRENTLY FINANCE' 'SERBIA' 'RUSSIA' 'UXZ' 'CANDA'\n",
      " 'CANADA AND USA' 'CATALONIA' '$2,175.84/YEAR IS DEDUCTED FOR BENEFITS'\n",
      " 'ITALY (SOUTH)' 'JERSEY, CHANNEL ISLANDS' 'VIRGINIA' 'AFGHANISTAN'\n",
      " 'UNITEED STATES' 'NEW ZEALAND AOTEAROA' 'HARTFORD'\n",
      " 'JAPAN, US GOV POSITION' 'I.S.' 'JAPAN' 'NZ' 'UNITE STATES' 'THE US'\n",
      " 'CHINA' 'CAMBODIA' 'VIETNAM' 'REMOTE' 'INDIA' 'BANGLADESH' 'ISRAEL'\n",
      " 'LITHUANIA' 'ERITREA'\n",
      " 'FOR THE UNITED STATES GOVERNMENT, BUT POSTED OVERSEAS' 'IS' 'ITALY'\n",
      " 'NORWAY' 'CUBA' 'SLOVENIA' 'AUSTRALI' \"COTE D'IVOIRE\"\n",
      " 'FROM ROMANIA, BUT FOR AN US BASED COMPANY' 'SOMALIA'\n",
      " 'WALES (UNITED KINGDOM)' 'UNITEDSTATES' 'DANMARK'\n",
      " 'U.K. (NORTHERN ENGLAND)' 'MALAYSIA' 'NL' 'NEDERLAND' 'SLOVAKIA'\n",
      " 'PORTUGAL' 'ENGLAND, UNITED KINGDOM' 'SIERRA LEONE' 'ENGLANG'\n",
      " 'UNITED STATEW' 'UAE' 'SINGAPORE' 'INTERNATIONAL' 'THE BAHAMAS'\n",
      " \"I EARN COMMISSION ON SALES. IF I MEET QUOTA, I'M GUARANTEED ANOTHER 16K MIN. LAST YEAR I EARNED AN ADDITIONAL 27K. IT'S NOT UNCOMMON FOR PEOPLE IN MY SPACE TO EARN 100K+ AFTER COMMISSION.\"\n",
      " 'COSTA RICA' 'ARGENTINA' 'UNTIED STATES' 'CHILE' 'UK (ENGLAND)'\n",
      " 'UNITIED STATES' 'QATAR' 'UNITED STTES' 'HUNGARY' 'REMOTE (PHILIPPINES)'\n",
      " 'UNITES KINGDOM' 'NIGERIA' 'PANAMÁ' 'BRAZIL'\n",
      " 'AUSTRIA, BUT I WORK REMOTELY FOR A DUTCH/BRITISH COMPANY'\n",
      " 'I WAS BROUGHT IN ON THIS SALARY TO HELP WITH THE EHR AND VERY QUICKLY WAS PROMOTED TO CURRENT POSITION BUT COMPENSATION WAS NOT ALTERED.'\n",
      " 'UNITER STATEZ' 'CONGO' 'URUGUAY' 'PAKISTAN' 'UNITED STATEDS'\n",
      " 'N/A (REMOTE FROM WHEREVER I WANT)'\n",
      " 'US GOVT EMPLOYEE OVERSEAS, COUNTRY WITHHELD' 'UGANDA' 'PHILIPPINES'\n",
      " 'POLAND' 'MALTA' 'BULGARIA' 'ESTONIA' 'MOROCCO' 'AFRICA' 'ECUADOR'\n",
      " 'ZIMBABWE' 'GHANA' 'SAN FRANCISCO' 'USAT' '🇺🇸' 'LUXEMBURG'\n",
      " 'UNITEF STATED' 'UA' 'CROATIA' 'SOUTH KOREA' 'UKRAINE'\n",
      " 'FROM NEW ZEALAND BUT ON PROJECTS ACROSS APAC' 'Y' 'UNITED Y' 'THAILAND'\n",
      " 'ISLE OF MAN' 'NORTHERN IRELAND, UNITED KINGDOM' 'EUROPE' 'CALIFORNIA'\n",
      " 'UK, BUT FOR GLOBALLY FULLY REMOTE COMPANY' 'AUSTRALIAN' 'JAMAICA' 'USD'\n",
      " 'KENYA' 'JORDAN' 'UNITED STATSS'\n",
      " 'I WORK FOR A UAE-BASED ORGANIZATION, THOUGH I AM PERSONALLY IN THE US.'\n",
      " 'UNITED  STATES' 'AOTEAROA NEW ZEALAND' 'NA' 'POLICY' 'CYPRUS'\n",
      " 'HONG KONH' 'LIECHTENSTEIN' 'COMPANY IN GERMANY. I WORK FROM PAKISTAN.'\n",
      " 'CANADÁ' 'LONDON' 'SS' 'DBFEMF' 'SAUDI ARABIA' 'LOUTRELAND' 'MYANMAR'\n",
      " 'BURMA' 'TAIWAN' 'ITALIA' 'HONG KONGKONG']\n"
     ]
    }
   ],
   "source": [
    "df[\"workCountry\"] = df[\"workCountry\"].str.strip().str.upper()\n",
    "\n",
    "df[\"workCountry\"] = df[\"workCountry\"].replace(country_aliases)\n",
    "\n",
    "print(df[\"workCountry\"].value_counts().head(10))\n",
    "print(df[\"workCountry\"].unique())"
   ]
  },
  {
   "cell_type": "code",
   "execution_count": 115,
   "metadata": {},
   "outputs": [
    {
     "data": {
      "text/plain": [
       "(25932, 15)"
      ]
     },
     "execution_count": 115,
     "metadata": {},
     "output_type": "execute_result"
    }
   ],
   "source": [
    "# Based on the count of countries, we will focus on comparing USA, CANADA and UK\n",
    "# I will now drop the unused countries from the data set\n",
    "df = df[df[\"workCountry\"].isin([\"USA\", \"CANADA\", \"UK\"])]\n",
    "df.shape # adds correctly, 22726+1653+1552 = 25931"
   ]
  },
  {
   "cell_type": "code",
   "execution_count": 116,
   "metadata": {},
   "outputs": [
    {
     "name": "stdout",
     "output_type": "stream",
     "text": [
      "workCountry\n",
      "USA       22727\n",
      "CANADA     1653\n",
      "UK         1552\n",
      "Name: count, dtype: int64\n",
      "['USA' 'UK' 'CANADA']\n"
     ]
    }
   ],
   "source": [
    "print(df[\"workCountry\"].value_counts().head(10))\n",
    "print(df[\"workCountry\"].unique())"
   ]
  },
  {
   "cell_type": "code",
   "execution_count": 117,
   "metadata": {},
   "outputs": [
    {
     "name": "stdout",
     "output_type": "stream",
     "text": [
      "<bound method NDFrame.head of       ageRange                       industry  annualSalary  addIncome  \\\n",
      "0        25-34   Education (Higher Education)         55000        0.0   \n",
      "1        25-34              Computing or Tech         54600     4000.0   \n",
      "2        25-34  Accounting, Banking & Finance         34000        0.0   \n",
      "3        25-34                     Nonprofits         62000     3000.0   \n",
      "4        25-34  Accounting, Banking & Finance         60000     7000.0   \n",
      "...        ...                            ...           ...        ...   \n",
      "28128    18-24                       research         31200        0.0   \n",
      "28129    18-24   Engineering or Manufacturing         25000        0.0   \n",
      "28130    25-34   Engineering or Manufacturing         88000        0.0   \n",
      "28133    25-34              Computing or Tech        100000    50000.0   \n",
      "28134    25-34                            ABA         77000     3500.0   \n",
      "\n",
      "      currency workCountry         usState           usCity   overallProExp  \\\n",
      "0          USD         USA   Massachusetts           Boston       5-7 years   \n",
      "1          GBP          UK             NaN        Cambridge    8 - 10 years   \n",
      "2          USD         USA       Tennessee      Chattanooga     2 - 4 years   \n",
      "3          USD         USA       Wisconsin        Milwaukee    8 - 10 years   \n",
      "4          USD         USA  South Carolina       Greenville    8 - 10 years   \n",
      "...        ...         ...             ...              ...             ...   \n",
      "28128      USD         USA        Michigan     East Lansing  1 year or less   \n",
      "28129      USD         USA        Michigan  St Clair Shores     2 - 4 years   \n",
      "28130      USD         USA   Massachusetts      marlborough       5-7 years   \n",
      "28133      USD         USA      California        San Diego       5-7 years   \n",
      "28134      USD         USA      California        San Diego       5-7 years   \n",
      "\n",
      "             fieldExp         eduLevel      gender  \\\n",
      "0           5-7 years  Master's degree       Woman   \n",
      "1           5-7 years   College degree  Non-binary   \n",
      "2         2 - 4 years   College degree       Woman   \n",
      "3           5-7 years   College degree       Woman   \n",
      "4           5-7 years   College degree       Woman   \n",
      "...               ...              ...         ...   \n",
      "28128  1 year or less      High School       Woman   \n",
      "28129     2 - 4 years      High School         Man   \n",
      "28130       5-7 years  Master's degree       Woman   \n",
      "28133     2 - 4 years  Master's degree       Woman   \n",
      "28134       5-7 years  Master's degree       Woman   \n",
      "\n",
      "                                                    race  totalCompensation  \\\n",
      "0                                                  White            55000.0   \n",
      "1                                                  White            58600.0   \n",
      "2                                                  White            34000.0   \n",
      "3                                                  White            65000.0   \n",
      "4                                                  White            67000.0   \n",
      "...                                                  ...                ...   \n",
      "28128                     Asian or Asian American, White            31200.0   \n",
      "28129  Asian or Asian American, Hispanic, Latino, or ...            25000.0   \n",
      "28130                                              White            88000.0   \n",
      "28133                            Asian or Asian American           150000.0   \n",
      "28134                                              White            80500.0   \n",
      "\n",
      "        compUSD  \n",
      "0       55000.0  \n",
      "1       78524.0  \n",
      "2       34000.0  \n",
      "3       65000.0  \n",
      "4       67000.0  \n",
      "...         ...  \n",
      "28128   31200.0  \n",
      "28129   25000.0  \n",
      "28130   88000.0  \n",
      "28133  150000.0  \n",
      "28134   80500.0  \n",
      "\n",
      "[25932 rows x 15 columns]>\n"
     ]
    },
    {
     "data": {
      "text/plain": [
       "ageRange                0\n",
       "industry                0\n",
       "annualSalary            0\n",
       "addIncome               0\n",
       "currency                0\n",
       "workCountry             0\n",
       "usState              3358\n",
       "usCity                 74\n",
       "overallProExp           0\n",
       "fieldExp                0\n",
       "eduLevel                0\n",
       "gender                  0\n",
       "race                    0\n",
       "totalCompensation       0\n",
       "compUSD                 0\n",
       "dtype: int64"
      ]
     },
     "execution_count": 117,
     "metadata": {},
     "output_type": "execute_result"
    }
   ],
   "source": [
    "print(df.head)\n",
    "df.dtypes\n",
    "df.isna().sum()"
   ]
  },
  {
   "cell_type": "code",
   "execution_count": 118,
   "metadata": {},
   "outputs": [
    {
     "name": "stdout",
     "output_type": "stream",
     "text": [
      "<bound method NDFrame.head of 0             5-7 years\n",
      "1          8 - 10 years\n",
      "2           2 - 4 years\n",
      "3          8 - 10 years\n",
      "4          8 - 10 years\n",
      "              ...      \n",
      "28128    1 year or less\n",
      "28129       2 - 4 years\n",
      "28130         5-7 years\n",
      "28133         5-7 years\n",
      "28134         5-7 years\n",
      "Name: overallProExp, Length: 25932, dtype: object>\n",
      "<bound method NDFrame.head of 0             5-7 years\n",
      "1            8-10 years\n",
      "2             2-4 years\n",
      "3            8-10 years\n",
      "4            8-10 years\n",
      "              ...      \n",
      "28128    1 year or less\n",
      "28129         2-4 years\n",
      "28130         5-7 years\n",
      "28133         5-7 years\n",
      "28134         5-7 years\n",
      "Name: overallProExp, Length: 25932, dtype: object>\n",
      "['5-7 years' '8-10 years' '2-4 years' '21-30 years' '11-20 years'\n",
      " '1 year or less' '41 years or more' '31-40 years']\n"
     ]
    }
   ],
   "source": [
    "# bin overallProExp and fieldExp\n",
    "print(df[\"overallProExp\"].head)\n",
    "df[\"overallProExp\"] = df[\"overallProExp\"].str.replace(r\"\\s*-\\s*\", \"-\", regex=True)\n",
    "print(df[\"overallProExp\"].head)\n",
    "print(df[\"overallProExp\"].unique())\n",
    "\n",
    "experience_bin_map = {\n",
    "    \"1 year or less\": \"0-1\",\n",
    "    \"2-4 years\": \"2-4\",\n",
    "    \"5-7 years\": \"5-7\",\n",
    "    \"8-10 years\": \"8-10\",\n",
    "    \"11-20 years\": \"11-20\",\n",
    "    \"21-30 years\": \"21-30\",\n",
    "    \"31-40 years\": \"31-40\",\n",
    "    \"41 years or more\": \"41+\"\n",
    "}"
   ]
  },
  {
   "cell_type": "code",
   "execution_count": 119,
   "metadata": {},
   "outputs": [
    {
     "name": "stdout",
     "output_type": "stream",
     "text": [
      "<bound method NDFrame.head of 0         5-7\n",
      "1        8-10\n",
      "2         2-4\n",
      "3        8-10\n",
      "4        8-10\n",
      "         ... \n",
      "28128     0-1\n",
      "28129     2-4\n",
      "28130     5-7\n",
      "28133     5-7\n",
      "28134     5-7\n",
      "Name: overallProExp, Length: 25932, dtype: object>\n",
      "['5-7' '8-10' '2-4' '21-30' '11-20' '0-1' '41+' '31-40']\n"
     ]
    }
   ],
   "source": [
    "df[\"overallProExp\"] = df[\"overallProExp\"].map(experience_bin_map)\n",
    "print(df[\"overallProExp\"].head)\n",
    "print(df[\"overallProExp\"].unique())"
   ]
  },
  {
   "cell_type": "code",
   "execution_count": 120,
   "metadata": {},
   "outputs": [
    {
     "data": {
      "text/plain": [
       "ageRange                0\n",
       "industry                0\n",
       "annualSalary            0\n",
       "addIncome               0\n",
       "currency                0\n",
       "workCountry             0\n",
       "usState              3358\n",
       "usCity                 74\n",
       "overallProExp           0\n",
       "fieldExp                0\n",
       "eduLevel                0\n",
       "gender                  0\n",
       "race                    0\n",
       "totalCompensation       0\n",
       "compUSD                 0\n",
       "dtype: int64"
      ]
     },
     "execution_count": 120,
     "metadata": {},
     "output_type": "execute_result"
    }
   ],
   "source": [
    "df.isna().sum()"
   ]
  },
  {
   "cell_type": "code",
   "execution_count": 121,
   "metadata": {},
   "outputs": [
    {
     "name": "stdout",
     "output_type": "stream",
     "text": [
      "<bound method NDFrame.head of 0             5-7 years\n",
      "1             5-7 years\n",
      "2           2 - 4 years\n",
      "3             5-7 years\n",
      "4             5-7 years\n",
      "              ...      \n",
      "28128    1 year or less\n",
      "28129       2 - 4 years\n",
      "28130         5-7 years\n",
      "28133       2 - 4 years\n",
      "28134         5-7 years\n",
      "Name: fieldExp, Length: 25932, dtype: object>\n",
      "<bound method NDFrame.head of 0             5-7 years\n",
      "1             5-7 years\n",
      "2             2-4 years\n",
      "3             5-7 years\n",
      "4             5-7 years\n",
      "              ...      \n",
      "28128    1 year or less\n",
      "28129         2-4 years\n",
      "28130         5-7 years\n",
      "28133         2-4 years\n",
      "28134         5-7 years\n",
      "Name: fieldExp, Length: 25932, dtype: object>\n",
      "['5-7 years' '2-4 years' '21-30 years' '11-20 years' '1 year or less'\n",
      " '8-10 years' '31-40 years' '41 years or more']\n"
     ]
    }
   ],
   "source": [
    "# bin field exp\n",
    "print(df[\"fieldExp\"].head)\n",
    "df[\"fieldExp\"] = df[\"fieldExp\"].str.replace(r\"\\s*-\\s*\", \"-\", regex=True)\n",
    "print(df[\"fieldExp\"].head)\n",
    "print(df[\"fieldExp\"].unique())"
   ]
  },
  {
   "cell_type": "code",
   "execution_count": 122,
   "metadata": {},
   "outputs": [
    {
     "name": "stdout",
     "output_type": "stream",
     "text": [
      "<bound method NDFrame.head of 0        5-7\n",
      "1        5-7\n",
      "2        2-4\n",
      "3        5-7\n",
      "4        5-7\n",
      "        ... \n",
      "28128    0-1\n",
      "28129    2-4\n",
      "28130    5-7\n",
      "28133    2-4\n",
      "28134    5-7\n",
      "Name: fieldExp, Length: 25932, dtype: object>\n",
      "['5-7' '2-4' '21-30' '11-20' '0-1' '8-10' '31-40' '41+']\n"
     ]
    }
   ],
   "source": [
    "df[\"fieldExp\"] = df[\"fieldExp\"].map(experience_bin_map)\n",
    "print(df[\"fieldExp\"].head)\n",
    "print(df[\"fieldExp\"].unique())"
   ]
  },
  {
   "cell_type": "code",
   "execution_count": 123,
   "metadata": {},
   "outputs": [
    {
     "data": {
      "text/plain": [
       "ageRange                0\n",
       "industry                0\n",
       "annualSalary            0\n",
       "addIncome               0\n",
       "currency                0\n",
       "workCountry             0\n",
       "usState              3358\n",
       "usCity                 74\n",
       "overallProExp           0\n",
       "fieldExp                0\n",
       "eduLevel                0\n",
       "gender                  0\n",
       "race                    0\n",
       "totalCompensation       0\n",
       "compUSD                 0\n",
       "dtype: int64"
      ]
     },
     "execution_count": 123,
     "metadata": {},
     "output_type": "execute_result"
    }
   ],
   "source": [
    "df.isna().sum()"
   ]
  },
  {
   "cell_type": "code",
   "execution_count": 124,
   "metadata": {},
   "outputs": [
    {
     "data": {
      "text/plain": [
       "ageRange              object\n",
       "industry              object\n",
       "annualSalary           int64\n",
       "addIncome            float64\n",
       "currency              object\n",
       "workCountry           object\n",
       "usState               object\n",
       "usCity                object\n",
       "overallProExp         object\n",
       "fieldExp              object\n",
       "eduLevel              object\n",
       "gender                object\n",
       "race                  object\n",
       "totalCompensation    float64\n",
       "compUSD              float64\n",
       "dtype: object"
      ]
     },
     "execution_count": 124,
     "metadata": {},
     "output_type": "execute_result"
    }
   ],
   "source": [
    "df.dtypes"
   ]
  },
  {
   "cell_type": "markdown",
   "metadata": {},
   "source": [
    "---\n",
    "# Summary\n",
    "\n",
    "The dataframe has now been cleaned and is ready to be analyzed and worked on\n",
    "\n",
    "What has been done consists of:\n",
    "- dropping datapoints with missing values in crucial sections (industy, age, ...)\n",
    "- grouped currency and other currency into one column just currency\n",
    "- cleaning up total income\n",
    "    - sum income and bonus\n",
    "    - drop poorly formatted data (column for inputting other currency and some people wrote it in standard form but others wrote it out completely ex. INR vs indian rupee)\n",
    "    - normalize total compensation to USD based on current exchange rates\n",
    "    - stored in their own column (totalComepnsation and compUSD)\n",
    "- isolated only USA, UK and CANADA and ensured consistency acrosss names (ie. United States -> USA...)\n",
    "- cleaned up and binned experience level so that it is in numerical bins (1-2, 2-5,...) rather than having the word years, makes future processing much easier\n",
    "\n",
    "\\\n",
    "The data should be similar to before just a little easier to read and manipulate for machinelearning models\n",
    "- just know totalCompensation and compUSD are new columns\n",
    "- totalCompensation is sum of annualSalary and addIncome\n",
    "- compUSD is totalCompensation converted to USD based on currency column"
   ]
  },
  {
   "cell_type": "code",
   "execution_count": 125,
   "metadata": {},
   "outputs": [],
   "source": [
    "# export the cleaned dataframe as csv\n",
    "df.to_csv(\"cleandata.csv\", index=False)"
   ]
  },
  {
   "cell_type": "code",
   "execution_count": 129,
   "metadata": {},
   "outputs": [
    {
     "name": "stdout",
     "output_type": "stream",
     "text": [
      "ageRange              object\n",
      "industry              object\n",
      "annualSalary           int64\n",
      "addIncome            float64\n",
      "currency              object\n",
      "workCountry           object\n",
      "usState               object\n",
      "usCity                object\n",
      "overallProExp         object\n",
      "fieldExp              object\n",
      "eduLevel              object\n",
      "gender                object\n",
      "race                  object\n",
      "totalCompensation    float64\n",
      "compUSD              float64\n",
      "dtype: object\n"
     ]
    }
   ],
   "source": [
    "print(df.dtypes)\n",
    "\n"
   ]
  },
  {
   "cell_type": "code",
   "execution_count": 130,
   "metadata": {},
   "outputs": [
    {
     "name": "stdout",
     "output_type": "stream",
     "text": [
      "<bound method NDFrame.head of       ageRange                       industry  annualSalary  addIncome  \\\n",
      "0        25-34   Education (Higher Education)         55000        0.0   \n",
      "1        25-34              Computing or Tech         54600     4000.0   \n",
      "2        25-34  Accounting, Banking & Finance         34000        0.0   \n",
      "3        25-34                     Nonprofits         62000     3000.0   \n",
      "4        25-34  Accounting, Banking & Finance         60000     7000.0   \n",
      "...        ...                            ...           ...        ...   \n",
      "28128    18-24                       research         31200        0.0   \n",
      "28129    18-24   Engineering or Manufacturing         25000        0.0   \n",
      "28130    25-34   Engineering or Manufacturing         88000        0.0   \n",
      "28133    25-34              Computing or Tech        100000    50000.0   \n",
      "28134    25-34                            ABA         77000     3500.0   \n",
      "\n",
      "      currency workCountry         usState           usCity overallProExp  \\\n",
      "0          USD         USA   Massachusetts           Boston           5-7   \n",
      "1          GBP          UK             NaN        Cambridge          8-10   \n",
      "2          USD         USA       Tennessee      Chattanooga           2-4   \n",
      "3          USD         USA       Wisconsin        Milwaukee          8-10   \n",
      "4          USD         USA  South Carolina       Greenville          8-10   \n",
      "...        ...         ...             ...              ...           ...   \n",
      "28128      USD         USA        Michigan     East Lansing           0-1   \n",
      "28129      USD         USA        Michigan  St Clair Shores           2-4   \n",
      "28130      USD         USA   Massachusetts      marlborough           5-7   \n",
      "28133      USD         USA      California        San Diego           5-7   \n",
      "28134      USD         USA      California        San Diego           5-7   \n",
      "\n",
      "      fieldExp         eduLevel      gender  \\\n",
      "0          5-7  Master's degree       Woman   \n",
      "1          5-7   College degree  Non-binary   \n",
      "2          2-4   College degree       Woman   \n",
      "3          5-7   College degree       Woman   \n",
      "4          5-7   College degree       Woman   \n",
      "...        ...              ...         ...   \n",
      "28128      0-1      High School       Woman   \n",
      "28129      2-4      High School         Man   \n",
      "28130      5-7  Master's degree       Woman   \n",
      "28133      2-4  Master's degree       Woman   \n",
      "28134      5-7  Master's degree       Woman   \n",
      "\n",
      "                                                    race  totalCompensation  \\\n",
      "0                                                  White            55000.0   \n",
      "1                                                  White            58600.0   \n",
      "2                                                  White            34000.0   \n",
      "3                                                  White            65000.0   \n",
      "4                                                  White            67000.0   \n",
      "...                                                  ...                ...   \n",
      "28128                     Asian or Asian American, White            31200.0   \n",
      "28129  Asian or Asian American, Hispanic, Latino, or ...            25000.0   \n",
      "28130                                              White            88000.0   \n",
      "28133                            Asian or Asian American           150000.0   \n",
      "28134                                              White            80500.0   \n",
      "\n",
      "        compUSD  \n",
      "0       55000.0  \n",
      "1       78524.0  \n",
      "2       34000.0  \n",
      "3       65000.0  \n",
      "4       67000.0  \n",
      "...         ...  \n",
      "28128   31200.0  \n",
      "28129   25000.0  \n",
      "28130   88000.0  \n",
      "28133  150000.0  \n",
      "28134   80500.0  \n",
      "\n",
      "[25932 rows x 15 columns]>\n"
     ]
    }
   ],
   "source": [
    "print(df.head)"
   ]
  },
  {
   "cell_type": "code",
   "execution_count": 131,
   "metadata": {},
   "outputs": [
    {
     "data": {
      "text/plain": [
       "ageRange                0\n",
       "industry                0\n",
       "annualSalary            0\n",
       "addIncome               0\n",
       "currency                0\n",
       "workCountry             0\n",
       "usState              3358\n",
       "usCity                 74\n",
       "overallProExp           0\n",
       "fieldExp                0\n",
       "eduLevel                0\n",
       "gender                  0\n",
       "race                    0\n",
       "totalCompensation       0\n",
       "compUSD                 0\n",
       "dtype: int64"
      ]
     },
     "execution_count": 131,
     "metadata": {},
     "output_type": "execute_result"
    }
   ],
   "source": [
    "df.isna().sum()"
   ]
  }
 ],
 "metadata": {
  "kernelspec": {
   "display_name": ".venv",
   "language": "python",
   "name": "python3"
  },
  "language_info": {
   "codemirror_mode": {
    "name": "ipython",
    "version": 3
   },
   "file_extension": ".py",
   "mimetype": "text/x-python",
   "name": "python",
   "nbconvert_exporter": "python",
   "pygments_lexer": "ipython3",
   "version": "3.12.9"
  }
 },
 "nbformat": 4,
 "nbformat_minor": 2
}
