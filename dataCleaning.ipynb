{
 "cells": [
  {
   "cell_type": "markdown",
   "metadata": {},
   "source": [
    "# Data Summary\n",
    "---\n",
    "#### According to the Google Sheets file the Columns consist of: \n",
    "\n",
    "**1:** Age Range \\\n",
    "**2:** Industry \\\n",
    "**3:** Job Title\\\n",
    "**4:** Additional Job Context\\\n",
    "**5:** Annual Salary \\\n",
    "**6:** Additional Income (bonuses, overtime...)\\\n",
    "**7:** Currency (USD, GBP, EUR...)\\\n",
    "**8:** Other Column for additional currency inputs (one input INR)\\\n",
    "**9:** Context for Additional Income (bonus percentages)\\\n",
    "**10:** What Country You work in\\\n",
    "**11:** If U.S. what State they work in\\\n",
    "**12:** If U.S. what City they work in\\\n",
    "**13:** How Many Years of Professional Experience overall\\\n",
    "**14:** How Many Years of Professional Experience in this specific field\\\n",
    "**15:** Highest level of education completed\\\n",
    "**16:** Gender\\\n",
    "**17:** Race\\\n",
    "\\\n",
    "I will download the sheets file as a csv and import it as a dataframe (I renamed the columns for ease of use as they were labeled as the question asked in the original survey):"
   ]
  },
  {
   "cell_type": "code",
   "execution_count": 34,
   "metadata": {},
   "outputs": [
    {
     "name": "stdout",
     "output_type": "stream",
     "text": [
      "            Timestamp ageRange                       industry  \\\n",
      "0  4/27/2021 11:02:10    25-34   Education (Higher Education)   \n",
      "1  4/27/2021 11:02:22    25-34              Computing or Tech   \n",
      "2  4/27/2021 11:02:38    25-34  Accounting, Banking & Finance   \n",
      "3  4/27/2021 11:02:41    25-34                     Nonprofits   \n",
      "4  4/27/2021 11:02:42    25-34  Accounting, Banking & Finance   \n",
      "\n",
      "                                   jobTitle jobContext annualSalary  \\\n",
      "0        Research and Instruction Librarian        NaN       55,000   \n",
      "1  Change & Internal Communications Manager        NaN       54,600   \n",
      "2                      Marketing Specialist        NaN       34,000   \n",
      "3                           Program Manager        NaN       62,000   \n",
      "4                        Accounting Manager        NaN       60,000   \n",
      "\n",
      "   addIncome currency otherCurrency addIncomeContext     workCountry  \\\n",
      "0        0.0      USD           NaN              NaN   United States   \n",
      "1     4000.0      GBP           NaN              NaN  United Kingdom   \n",
      "2        NaN      USD           NaN              NaN              US   \n",
      "3     3000.0      USD           NaN              NaN             USA   \n",
      "4     7000.0      USD           NaN              NaN              US   \n",
      "\n",
      "          usState       usCity overallProExp     fieldExp         eduLevel  \\\n",
      "0   Massachusetts       Boston     5-7 years    5-7 years  Master's degree   \n",
      "1             NaN    Cambridge  8 - 10 years    5-7 years   College degree   \n",
      "2       Tennessee  Chattanooga   2 - 4 years  2 - 4 years   College degree   \n",
      "3       Wisconsin    Milwaukee  8 - 10 years    5-7 years   College degree   \n",
      "4  South Carolina   Greenville  8 - 10 years    5-7 years   College degree   \n",
      "\n",
      "       gender   race  \n",
      "0       Woman  White  \n",
      "1  Non-binary  White  \n",
      "2       Woman  White  \n",
      "3       Woman  White  \n",
      "4       Woman  White  \n"
     ]
    },
    {
     "data": {
      "text/plain": [
       "Timestamp            object\n",
       "ageRange             object\n",
       "industry             object\n",
       "jobTitle             object\n",
       "jobContext           object\n",
       "annualSalary         object\n",
       "addIncome           float64\n",
       "currency             object\n",
       "otherCurrency        object\n",
       "addIncomeContext     object\n",
       "workCountry          object\n",
       "usState              object\n",
       "usCity               object\n",
       "overallProExp        object\n",
       "fieldExp             object\n",
       "eduLevel             object\n",
       "gender               object\n",
       "race                 object\n",
       "dtype: object"
      ]
     },
     "execution_count": 34,
     "metadata": {},
     "output_type": "execute_result"
    }
   ],
   "source": [
    "import pandas as pd\n",
    "\n",
    "# read csv file\n",
    "df = pd.read_csv('salarySurveyRenamed.csv')\n",
    "\n",
    "# check the data\n",
    "print(df.head())\n",
    "\n",
    "# check data types\n",
    "df.dtypes"
   ]
  },
  {
   "cell_type": "markdown",
   "metadata": {},
   "source": [
    "The dataframe consists of an additional timestamp column that will need to be removed during cleaning.\n",
    "\n",
    "---\n",
    "\n",
    "# Data Cleaning\n",
    "\n",
    "### 1: Combining Salary and Additional Salary\n",
    "- convert values to numeric int/float (addIncome is already a float, so just change salary)\n",
    "- create a total compensation column (salary + additional)\n",
    "- convert to one standard currency, USD"
   ]
  },
  {
   "cell_type": "code",
   "execution_count": null,
   "metadata": {},
   "outputs": [
    {
     "name": "stdout",
     "output_type": "stream",
     "text": [
      "NaNs in salary:  0\n",
      "NaNs in Additional Income:  0\n",
      "0       0.0\n",
      "1    4000.0\n",
      "2       0.0\n",
      "3    3000.0\n",
      "4    7000.0\n",
      "Name: addIncome, dtype: float64\n",
      "0    55000\n",
      "1    54600\n",
      "2    34000\n",
      "3    62000\n",
      "4    60000\n",
      "Name: annualSalary, dtype: int64\n",
      "0    55000.0\n",
      "1    58600.0\n",
      "2    34000.0\n",
      "3    65000.0\n",
      "4    67000.0\n",
      "Name: totalCompensation, dtype: float64\n",
      "NaNs in currency:  0\n",
      "['USD' 'GBP' 'CAD' 'EUR' 'AUD/NZD' 'OTHER' 'CHF' 'ZAR' 'SEK' 'HKD' 'JPY']\n"
     ]
    }
   ],
   "source": [
    "# check for nulls and fill if needed\n",
    "print(\"NaNs in salary: \", df[\"annualSalary\"].isna().sum())\n",
    "print(\"NaNs in Additional Income: \",df[\"addIncome\"].isna().sum())\n",
    "\n",
    "# fill the NaNs in additional income with 0 so I can correctly calculate total compensation\n",
    "df[\"addIncome\"] = df[\"addIncome\"].fillna(0)\n",
    "print(df[\"addIncome\"].head(5))\n",
    "\n",
    "# check types\n",
    "df.dtypes[[\"annualSalary\", \"addIncome\"]]\n",
    "\n",
    "# convert annualSalary to type float and remove commas\n",
    "df[\"annualSalary\"] = pd.to_numeric(df[\"annualSalary\"].astype(str).str.replace(\",\", \"\"), errors=\"coerce\")\n",
    "print(df[\"annualSalary\"].head(5))\n",
    "\n",
    "# now calculate for total income\n",
    "df[\"totalCompensation\"] = df[\"annualSalary\"] + df[\"addIncome\"]\n",
    "print(df[\"totalCompensation\"].head(5))\n",
    "\n",
    "\n",
    "# we have to standardize all values to USD\n",
    "# combine currency and otherCurrency\n",
    "df[\"currency\"] = df[\"currency\"].fillna(df[\"otherCurrency\"])\n",
    "print(\"NaNs in currency: \", df[\"currency\"].isna().sum())\n",
    "\n",
    "# drop otherCurrency\n",
    "df = df.drop(columns=[\"otherCurrency\"])\n",
    "\n",
    "# find unique currencies to create dictionary for conversion\n",
    "df[\"currency\"] = df[\"currency\"].str.strip().str.upper()\n",
    "unique_currencies = df[\"currency\"].dropna().unique()\n",
    "print(unique_currencies)\n"
   ]
  },
  {
   "cell_type": "code",
   "execution_count": null,
   "metadata": {},
   "outputs": [
    {
     "name": "stdout",
     "output_type": "stream",
     "text": [
      "['USD' 'GBP' 'CAD' 'EUR' 'AUD/NZD' 'CHF' 'ZAR' 'SEK' 'HKD' 'JPY']\n"
     ]
    }
   ],
   "source": [
    "# dictionary for conversions, based on google 4/22/25:\n",
    "conversion_rates = {\n",
    "    \"USD\": 1.0,\n",
    "    \"GBP\": 1.34,\n",
    "    \"CAD\": 0.72,\n",
    "    \"EUR\": 1.15,\n",
    "    \"AUD/NZD\": 0.70,\n",
    "    \"CHF\": 1.23,\n",
    "    \"ZAR\": 0.054,\n",
    "    \"SEK\": 0.11,\n",
    "    \"HKD\": 0.13,\n",
    "    \"JPY\": 0.0071,\n",
    "}\n",
    "\n",
    "# drop rows that answered other, as too many values and non standard answers\n",
    "df = df[df[\"currency\"].str.strip().str.upper() != \"OTHER\"]\n",
    "\n",
    "# find unique currencies to create dictionary for conversion\n",
    "df[\"currency\"] = df[\"currency\"].str.strip().str.upper()\n",
    "unique_currencies = df[\"currency\"].dropna().unique()\n",
    "print(unique_currencies)\n"
   ]
  },
  {
   "cell_type": "markdown",
   "metadata": {},
   "source": [
    "# 2. Drop Unused Columns\n",
    "\n",
    "- dropping columns such as timestamp\n",
    "-"
   ]
  },
  {
   "cell_type": "code",
   "execution_count": 42,
   "metadata": {},
   "outputs": [
    {
     "name": "stdout",
     "output_type": "stream",
     "text": [
      "['Timestamp', 'ageRange', 'industry', 'jobTitle', 'jobContext', 'annualSalary', 'addIncome', 'currency', 'otherCurrency', 'addIncomeContext', 'workCountry', 'usState', 'usCity', 'overallProExp', 'fieldExp', 'eduLevel', 'gender', 'race', 'totalCompensation']\n"
     ]
    },
    {
     "data": {
      "text/plain": [
       "<bound method NDFrame.head of       ageRange                       industry  \\\n",
       "0        25-34   Education (Higher Education)   \n",
       "1        25-34              Computing or Tech   \n",
       "2        25-34  Accounting, Banking & Finance   \n",
       "3        25-34                     Nonprofits   \n",
       "4        25-34  Accounting, Banking & Finance   \n",
       "...        ...                            ...   \n",
       "28130    25-34   Engineering or Manufacturing   \n",
       "28131    25-34              Computing or Tech   \n",
       "28132    18-24                            NaN   \n",
       "28133    25-34              Computing or Tech   \n",
       "28134    25-34                            ABA   \n",
       "\n",
       "                                       jobTitle jobContext  annualSalary  \\\n",
       "0            Research and Instruction Librarian        NaN         55000   \n",
       "1      Change & Internal Communications Manager        NaN         54600   \n",
       "2                          Marketing Specialist        NaN         34000   \n",
       "3                               Program Manager        NaN         62000   \n",
       "4                            Accounting Manager        NaN         60000   \n",
       "...                                         ...        ...           ...   \n",
       "28130                                 Geologist        NaN         88000   \n",
       "28131                           Medientechniker        NaN         46000   \n",
       "28132                                   Student        NaN             0   \n",
       "28133                             Data Engineer        NaN        100000   \n",
       "28134                       Clinical Supervisor       BCBA         77000   \n",
       "\n",
       "       addIncome currency otherCurrency addIncomeContext     workCountry  \\\n",
       "0            0.0      USD           NaN              NaN   United States   \n",
       "1         4000.0      GBP           NaN              NaN  United Kingdom   \n",
       "2            0.0      USD           NaN              NaN              US   \n",
       "3         3000.0      USD           NaN              NaN             USA   \n",
       "4         7000.0      USD           NaN              NaN              US   \n",
       "...          ...      ...           ...              ...             ...   \n",
       "28130        0.0      USD           NaN              NaN             usa   \n",
       "28131        0.0      EUR           NaN              NaN         Austria   \n",
       "28132        0.0      USD           NaN              NaN          Canada   \n",
       "28133    50000.0      USD           NaN              NaN             USA   \n",
       "28134     3500.0      USD           NaN              NaN   United States   \n",
       "\n",
       "              usState       usCity   overallProExp        fieldExp  \\\n",
       "0       Massachusetts       Boston       5-7 years       5-7 years   \n",
       "1                 NaN    Cambridge    8 - 10 years       5-7 years   \n",
       "2           Tennessee  Chattanooga     2 - 4 years     2 - 4 years   \n",
       "3           Wisconsin    Milwaukee    8 - 10 years       5-7 years   \n",
       "4      South Carolina   Greenville    8 - 10 years       5-7 years   \n",
       "...               ...          ...             ...             ...   \n",
       "28130   Massachusetts  marlborough       5-7 years       5-7 years   \n",
       "28131             NaN     Rohrbach   11 - 20 years       5-7 years   \n",
       "28132             NaN     Winnipeg  1 year or less  1 year or less   \n",
       "28133      California    San Diego       5-7 years     2 - 4 years   \n",
       "28134      California    San Diego       5-7 years       5-7 years   \n",
       "\n",
       "              eduLevel      gender                                 race  \\\n",
       "0      Master's degree       Woman                                White   \n",
       "1       College degree  Non-binary                                White   \n",
       "2       College degree       Woman                                White   \n",
       "3       College degree       Woman                                White   \n",
       "4       College degree       Woman                                White   \n",
       "...                ...         ...                                  ...   \n",
       "28130  Master's degree       Woman                                White   \n",
       "28131              NaN       Woman                                  NaN   \n",
       "28132      High School         Man  Hispanic, Latino, or Spanish origin   \n",
       "28133  Master's degree       Woman              Asian or Asian American   \n",
       "28134  Master's degree       Woman                                White   \n",
       "\n",
       "       totalCompensation  \n",
       "0                55000.0  \n",
       "1                58600.0  \n",
       "2                34000.0  \n",
       "3                65000.0  \n",
       "4                67000.0  \n",
       "...                  ...  \n",
       "28130            88000.0  \n",
       "28131            46000.0  \n",
       "28132                0.0  \n",
       "28133           150000.0  \n",
       "28134            80500.0  \n",
       "\n",
       "[28135 rows x 18 columns]>"
      ]
     },
     "execution_count": 42,
     "metadata": {},
     "output_type": "execute_result"
    }
   ],
   "source": [
    "print(df.columns.tolist())\n",
    "\n",
    "# drop timestamp\n",
    "df = df.drop(columns=[\"Timestamp\"])\n",
    "\n",
    "df.head"
   ]
  }
 ],
 "metadata": {
  "kernelspec": {
   "display_name": ".venv",
   "language": "python",
   "name": "python3"
  },
  "language_info": {
   "codemirror_mode": {
    "name": "ipython",
    "version": 3
   },
   "file_extension": ".py",
   "mimetype": "text/x-python",
   "name": "python",
   "nbconvert_exporter": "python",
   "pygments_lexer": "ipython3",
   "version": "3.12.9"
  }
 },
 "nbformat": 4,
 "nbformat_minor": 2
}
